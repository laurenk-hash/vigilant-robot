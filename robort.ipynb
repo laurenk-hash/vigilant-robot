{
 "cells": [
  {
   "cell_type": "markdown",
   "id": "26be2736",
   "metadata": {},
   "source": [
    "### git\n",
    "\n",
    "\"\"\"\"\n",
    "Our main agenda is to upload /push to Github\n",
    "\n",
    "-initialize Git\n",
    " by using the command Git init\n",
    "\n",
    "-Stage our changes\n",
    "git add <argument>\n",
    "#i.e change for notebook alone\n",
    "git add robot.ipynb\n",
    "#i.e track all the files\n",
    "git add .\n",
    "\n",
    "-Taking a snapshot with a label\n",
    "git commit\n",
    "\n",
    "-Upload to Github\n",
    "git push origin <name of your branch>\n",
    "\n",
    "\n",
    "\n",
    "\"\"\""
   ]
  },
  {
   "cell_type": "markdown",
   "id": "2ad4fc80",
   "metadata": {},
   "source": [
    "### python File I/O\n",
    "python 's built in ways to opening/loading files (input and output)\n",
    "\n",
    "**open()** is the dedicated function in python to load files.\n",
    "\n",
    "Syntax:\n",
    "\n",
    "open(filename,mode)\n",
    "\n",
    "**mode**\n",
    "\n",
    "* 'r' ----> read only\n",
    "* 'w' ----> write only()\n",
    "* 'r+' ----> read and write\n",
    "* 'a' ----> append only(going to write new data at the end of the file without erasing existing)\n"
   ]
  },
  {
   "cell_type": "code",
   "execution_count": 1,
   "id": "97260820",
   "metadata": {},
   "outputs": [
    {
     "data": {
      "text/html": [
       "<div>\n",
       "<style scoped>\n",
       "    .dataframe tbody tr th:only-of-type {\n",
       "        vertical-align: middle;\n",
       "    }\n",
       "\n",
       "    .dataframe tbody tr th {\n",
       "        vertical-align: top;\n",
       "    }\n",
       "\n",
       "    .dataframe thead th {\n",
       "        text-align: right;\n",
       "    }\n",
       "</style>\n",
       "<table border=\"1\" class=\"dataframe\">\n",
       "  <thead>\n",
       "    <tr style=\"text-align: right;\">\n",
       "      <th></th>\n",
       "      <th>a</th>\n",
       "      <th>b</th>\n",
       "      <th>c</th>\n",
       "      <th>d</th>\n",
       "      <th>e</th>\n",
       "    </tr>\n",
       "  </thead>\n",
       "  <tbody>\n",
       "    <tr>\n",
       "      <th>0</th>\n",
       "      <td>1</td>\n",
       "      <td>2</td>\n",
       "      <td>3</td>\n",
       "      <td>4</td>\n",
       "      <td>5</td>\n",
       "    </tr>\n",
       "    <tr>\n",
       "      <th>1</th>\n",
       "      <td>1</td>\n",
       "      <td>2</td>\n",
       "      <td>3</td>\n",
       "      <td>4</td>\n",
       "      <td>5</td>\n",
       "    </tr>\n",
       "    <tr>\n",
       "      <th>2</th>\n",
       "      <td>1</td>\n",
       "      <td>2</td>\n",
       "      <td>3</td>\n",
       "      <td>4</td>\n",
       "      <td>5</td>\n",
       "    </tr>\n",
       "  </tbody>\n",
       "</table>\n",
       "</div>"
      ],
      "text/plain": [
       "   a  b  c  d  e\n",
       "0  1  2  3  4  5\n",
       "1  1  2  3  4  5\n",
       "2  1  2  3  4  5"
      ]
     },
     "execution_count": 1,
     "metadata": {},
     "output_type": "execute_result"
    }
   ],
   "source": [
    "import pandas as pd\n",
    "pd.read_csv('./sample.csv').head()\n"
   ]
  },
  {
   "cell_type": "code",
   "execution_count": 2,
   "id": "7cb7837f",
   "metadata": {},
   "outputs": [
    {
     "data": {
      "text/plain": [
       "'a,b,c,d,e\\n1,2,3,4,5\\n1,2,3,4,5\\n1,2,3,4,5\\n'"
      ]
     },
     "execution_count": 2,
     "metadata": {},
     "output_type": "execute_result"
    }
   ],
   "source": [
    "x = open('./sample.csv', 'r')\n",
    "x.read()"
   ]
  },
  {
   "cell_type": "markdown",
   "id": "31fe0e57",
   "metadata": {},
   "source": [
    "This automatically opens and closes the file when using the open() function."
   ]
  },
  {
   "cell_type": "code",
   "execution_count": 5,
   "id": "886c9b02",
   "metadata": {},
   "outputs": [
    {
     "name": "stdout",
     "output_type": "stream",
     "text": [
      "a,b,c,d,e\n",
      "1,2,3,4,5\n",
      "1,2,3,4,5\n",
      "1,2,3,4,5\n",
      "\n"
     ]
    }
   ],
   "source": [
    "with open('sample.csv','r') as f:\n",
    "    print(f.read())\n",
    "    "
   ]
  },
  {
   "cell_type": "code",
   "execution_count": 11,
   "id": "fc87a8e6",
   "metadata": {},
   "outputs": [
    {
     "name": "stdout",
     "output_type": "stream",
     "text": [
      "101 201\n",
      "102 202\n",
      "103 203\n"
     ]
    }
   ],
   "source": [
    "import csv\n",
    "with open('sample.csv') as f:\n",
    "  reader = csv.DictReader(f)\n",
    "  for row in reader:\n",
    "        print(row['Amsterdam'], row['Berlin'])"
   ]
  },
  {
   "cell_type": "markdown",
   "id": "f25243fa",
   "metadata": {},
   "source": [
    "Create a new file and write to it"
   ]
  },
  {
   "cell_type": "code",
   "execution_count": 15,
   "id": "ff0ef9a3",
   "metadata": {},
   "outputs": [],
   "source": [
    "with open('cities.txt','w') as f:\n",
    "   f.write('Amsterdam | Berlin | Cairo')"
   ]
  },
  {
   "cell_type": "code",
   "execution_count": null,
   "id": "d14eca08",
   "metadata": {},
   "outputs": [],
   "source": []
  }
 ],
 "metadata": {
  "kernelspec": {
   "display_name": "python (learn_env)",
   "language": "python",
   "name": "learn-env"
  },
  "language_info": {
   "codemirror_mode": {
    "name": "ipython",
    "version": 3
   },
   "file_extension": ".py",
   "mimetype": "text/x-python",
   "name": "python",
   "nbconvert_exporter": "python",
   "pygments_lexer": "ipython3",
   "version": "3.8.5"
  }
 },
 "nbformat": 4,
 "nbformat_minor": 5
}
