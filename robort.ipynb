{
 "cells": [
  {
   "cell_type": "markdown",
   "id": "26be2736",
   "metadata": {},
   "source": [
    "### git\n",
    "\n",
    "\"\"\"\"\n",
    "Our main agenda is to upload /push to Github\n",
    "\n",
    "-initialize Git\n",
    " by using the command Git init\n",
    "\n",
    "-Stage our changes\n",
    "git add <argument>\n",
    "#i.e change for notebook alone\n",
    "git add robot.ipynb\n",
    "#i.e track all the files\n",
    "git add .\n",
    "\n",
    "-Taking a snapshot with a label\n",
    "git commit\n",
    "\n",
    "-Upload to Github\n",
    "git push origin <name of your branch>\n",
    "\n",
    "\n",
    "\n",
    "\"\"\""
   ]
  },
  {
   "cell_type": "markdown",
   "id": "2ad4fc80",
   "metadata": {},
   "source": [
    "### python File I/O\n",
    "python 's built in ways to opening/loading files (input and output)\n",
    "\n",
    "**open()** is the dedicated function in python to load files.\n",
    "\n",
    "Syntax:\n",
    "\n",
    "open(filename,mode)\n",
    "\n",
    "**mode**\n",
    "\n",
    "* 'r' ----> read only\n",
    "* 'w' ----> write only()\n",
    "* 'r+' ----> read and write\n",
    "* 'a' ----> append only(going to write new data at the end of the file without erasing existing)\n"
   ]
  },
  {
   "cell_type": "code",
   "execution_count": 1,
   "id": "97260820",
   "metadata": {},
   "outputs": [
    {
     "data": {
      "text/html": [
       "<div>\n",
       "<style scoped>\n",
       "    .dataframe tbody tr th:only-of-type {\n",
       "        vertical-align: middle;\n",
       "    }\n",
       "\n",
       "    .dataframe tbody tr th {\n",
       "        vertical-align: top;\n",
       "    }\n",
       "\n",
       "    .dataframe thead th {\n",
       "        text-align: right;\n",
       "    }\n",
       "</style>\n",
       "<table border=\"1\" class=\"dataframe\">\n",
       "  <thead>\n",
       "    <tr style=\"text-align: right;\">\n",
       "      <th></th>\n",
       "      <th>a</th>\n",
       "      <th>b</th>\n",
       "      <th>c</th>\n",
       "      <th>d</th>\n",
       "      <th>e</th>\n",
       "    </tr>\n",
       "  </thead>\n",
       "  <tbody>\n",
       "    <tr>\n",
       "      <th>0</th>\n",
       "      <td>1</td>\n",
       "      <td>2</td>\n",
       "      <td>3</td>\n",
       "      <td>4</td>\n",
       "      <td>5</td>\n",
       "    </tr>\n",
       "    <tr>\n",
       "      <th>1</th>\n",
       "      <td>1</td>\n",
       "      <td>2</td>\n",
       "      <td>3</td>\n",
       "      <td>4</td>\n",
       "      <td>5</td>\n",
       "    </tr>\n",
       "    <tr>\n",
       "      <th>2</th>\n",
       "      <td>1</td>\n",
       "      <td>2</td>\n",
       "      <td>3</td>\n",
       "      <td>4</td>\n",
       "      <td>5</td>\n",
       "    </tr>\n",
       "  </tbody>\n",
       "</table>\n",
       "</div>"
      ],
      "text/plain": [
       "   a  b  c  d  e\n",
       "0  1  2  3  4  5\n",
       "1  1  2  3  4  5\n",
       "2  1  2  3  4  5"
      ]
     },
     "execution_count": 1,
     "metadata": {},
     "output_type": "execute_result"
    }
   ],
   "source": [
    "import pandas as pd\n",
    "pd.read_csv('./sample.csv').head()\n"
   ]
  },
  {
   "cell_type": "code",
   "execution_count": 2,
   "id": "7cb7837f",
   "metadata": {},
   "outputs": [
    {
     "data": {
      "text/plain": [
       "'a,b,c,d,e\\n1,2,3,4,5\\n1,2,3,4,5\\n1,2,3,4,5\\n'"
      ]
     },
     "execution_count": 2,
     "metadata": {},
     "output_type": "execute_result"
    }
   ],
   "source": [
    "x = open('./sample.csv', 'r')\n",
    "x.read()"
   ]
  },
  {
   "cell_type": "markdown",
   "id": "31fe0e57",
   "metadata": {},
   "source": [
    "This automatically opens and closes the file when using the open() function."
   ]
  },
  {
   "cell_type": "code",
   "execution_count": 5,
   "id": "886c9b02",
   "metadata": {},
   "outputs": [
    {
     "name": "stdout",
     "output_type": "stream",
     "text": [
      "a,b,c,d,e\n",
      "1,2,3,4,5\n",
      "1,2,3,4,5\n",
      "1,2,3,4,5\n",
      "\n"
     ]
    }
   ],
   "source": [
    "with open('sample.csv','r') as f:\n",
    "    print(f.read())\n",
    "    "
   ]
  },
  {
   "cell_type": "code",
   "execution_count": 11,
   "id": "fc87a8e6",
   "metadata": {},
   "outputs": [
    {
     "name": "stdout",
     "output_type": "stream",
     "text": [
      "101 201\n",
      "102 202\n",
      "103 203\n"
     ]
    }
   ],
   "source": [
    "import csv\n",
    "with open('sample.csv') as f:\n",
    "  reader = csv.DictReader(f)\n",
    "  for row in reader:\n",
    "        print(row['Amsterdam'], row['Berlin'])"
   ]
  },
  {
   "cell_type": "markdown",
   "id": "f25243fa",
   "metadata": {},
   "source": [
    "Create a new file and write to it"
   ]
  },
  {
   "cell_type": "code",
   "execution_count": 15,
   "id": "ff0ef9a3",
   "metadata": {},
   "outputs": [],
   "source": [
    "with open('cities.txt','w') as f:\n",
    "   f.write('Amsterdam | Berlin | Cairo')"
   ]
  },
  {
   "cell_type": "markdown",
   "id": "fdb91255",
   "metadata": {},
   "source": [
    "##JSON\n",
    "JSON is javascript Object Notation"
   ]
  },
  {
   "cell_type": "code",
   "execution_count": null,
   "id": "d14eca08",
   "metadata": {},
   "outputs": [
    {
     "data": {
      "text/plain": [
       "'My_Jams'"
      ]
     },
     "execution_count": 2,
     "metadata": {},
     "output_type": "execute_result"
    }
   ],
   "source": [
    "import json\n",
    "\n",
    "#with open to load json file\n",
    "with open('playlist.json', 'r') as f:\n",
    "    data = json.load(f)\n",
    "\n",
    "data['playlist_name']"
   ]
  },
  {
   "cell_type": "code",
   "execution_count": 3,
   "id": "a5151c08",
   "metadata": {},
   "outputs": [
    {
     "data": {
      "text/plain": [
       "[{'title': 'Stan',\n",
       "  'artist': 'Eminem',\n",
       "  'album': 'The Marshall Mathers LP',\n",
       "  'duration_sec': 405},\n",
       " {'title': 'In Da Club',\n",
       "  'artist': '50 Cent',\n",
       "  'album': 'Get Rich or Die Tryin',\n",
       "  'duration_sec': 240},\n",
       " {'title': 'Suzanna',\n",
       "  'artist': 'Sauti Sol',\n",
       "  'album': 'Midnight Train',\n",
       "  'duration_sec': 239},\n",
       " {'title': 'Many Men',\n",
       "  'artist': '50 Cent',\n",
       "  'album': 'Get Rich or Die Tryin',\n",
       "  'duration_sec': 256},\n",
       " {'title': 'Bad Liar',\n",
       "  'artist': 'Imagine Dragons',\n",
       "  'album': 'Origins',\n",
       "  'duration_sec': 243}]"
      ]
     },
     "execution_count": 3,
     "metadata": {},
     "output_type": "execute_result"
    }
   ],
   "source": [
    "data ['tracks']"
   ]
  },
  {
   "cell_type": "markdown",
   "id": "0fbd1287",
   "metadata": {},
   "source": [
    "Exploring JSON"
   ]
  },
  {
   "cell_type": "code",
   "execution_count": 4,
   "id": "75fc8d11",
   "metadata": {},
   "outputs": [
    {
     "data": {
      "text/plain": [
       "dict_keys(['playlist_name', 'created_by', 'tracks'])"
      ]
     },
     "execution_count": 4,
     "metadata": {},
     "output_type": "execute_result"
    }
   ],
   "source": [
    "data.keys()"
   ]
  },
  {
   "cell_type": "code",
   "execution_count": 5,
   "id": "75e7ccf9",
   "metadata": {},
   "outputs": [
    {
     "data": {
      "text/plain": [
       "dict_values(['My_Jams', 'Chacha', [{'title': 'Stan', 'artist': 'Eminem', 'album': 'The Marshall Mathers LP', 'duration_sec': 405}, {'title': 'In Da Club', 'artist': '50 Cent', 'album': 'Get Rich or Die Tryin', 'duration_sec': 240}, {'title': 'Suzanna', 'artist': 'Sauti Sol', 'album': 'Midnight Train', 'duration_sec': 239}, {'title': 'Many Men', 'artist': '50 Cent', 'album': 'Get Rich or Die Tryin', 'duration_sec': 256}, {'title': 'Bad Liar', 'artist': 'Imagine Dragons', 'album': 'Origins', 'duration_sec': 243}]])"
      ]
     },
     "execution_count": 5,
     "metadata": {},
     "output_type": "execute_result"
    }
   ],
   "source": [
    "data.values()"
   ]
  },
  {
   "cell_type": "code",
   "execution_count": 6,
   "id": "ff105f03",
   "metadata": {},
   "outputs": [
    {
     "data": {
      "text/plain": [
       "'Suzanna'"
      ]
     },
     "execution_count": 6,
     "metadata": {},
     "output_type": "execute_result"
    }
   ],
   "source": [
    "#accessing the third song\n",
    "data['tracks'][2]['title']"
   ]
  },
  {
   "cell_type": "code",
   "execution_count": 8,
   "id": "2d0042d1",
   "metadata": {},
   "outputs": [
    {
     "data": {
      "text/plain": [
       "'Origins'"
      ]
     },
     "execution_count": 8,
     "metadata": {},
     "output_type": "execute_result"
    }
   ],
   "source": [
    "#accessing origins\n",
    "data['tracks'][4]['album']"
   ]
  },
  {
   "cell_type": "markdown",
   "id": "2f8b5cae",
   "metadata": {},
   "source": [
    "##Transforming JSON Schema \n",
    "\n",
    "Here we want to transform JSON into a flatter structure ,which we can use for analysis."
   ]
  },
  {
   "cell_type": "code",
   "execution_count": null,
   "id": "4c721203",
   "metadata": {},
   "outputs": [],
   "source": [
    "\"\"\"\n",
    "Load the JSON,\n",
    "iterate over the tracks and create a new list from the dat points\n",
    "'artist':['eminem', '50 cent','sauti sol','imagine dragons']\n",
    "\"\"\""
   ]
  },
  {
   "cell_type": "code",
   "execution_count": null,
   "id": "75a67497",
   "metadata": {},
   "outputs": [],
   "source": [
    "data"
   ]
  },
  {
   "cell_type": "code",
   "execution_count": 17,
   "id": "785e46ed",
   "metadata": {},
   "outputs": [
    {
     "data": {
      "text/plain": [
       "[{'TITLE': 'Stan', 'ALBUM': 'The Marshall Mathers LP', 'LENGTH IN MIN': 6.75},\n",
       " {'TITLE': 'In Da Club',\n",
       "  'ALBUM': 'Get Rich or Die Tryin',\n",
       "  'LENGTH IN MIN': 4.0},\n",
       " {'TITLE': 'Suzanna', 'ALBUM': 'Midnight Train', 'LENGTH IN MIN': 3.98},\n",
       " {'TITLE': 'Many Men',\n",
       "  'ALBUM': 'Get Rich or Die Tryin',\n",
       "  'LENGTH IN MIN': 4.27},\n",
       " {'TITLE': 'Bad Liar', 'ALBUM': 'Origins', 'LENGTH IN MIN': 4.05}]"
      ]
     },
     "execution_count": 17,
     "metadata": {},
     "output_type": "execute_result"
    }
   ],
   "source": [
    "tracks = data['tracks']\n",
    "\n",
    "flattened_tracks = []\n",
    "\n",
    "for track in tracks:\n",
    "  flattened_tracks.append({\n",
    "    'TITLE':track['title'],\n",
    "    #'ARTIST':track['artist'],\n",
    "    'ALBUM':track['album'],\n",
    "    #'LENGTH OF SONG':track['duration_sec'],\n",
    "    'LENGTH IN MIN':round(track['duration_sec']/60,2),\n",
    "  })\n",
    "\n",
    "flattened_tracks"
   ]
  },
  {
   "cell_type": "code",
   "execution_count": 19,
   "id": "cb74031f",
   "metadata": {},
   "outputs": [
    {
     "data": {
      "text/html": [
       "<div>\n",
       "<style scoped>\n",
       "    .dataframe tbody tr th:only-of-type {\n",
       "        vertical-align: middle;\n",
       "    }\n",
       "\n",
       "    .dataframe tbody tr th {\n",
       "        vertical-align: top;\n",
       "    }\n",
       "\n",
       "    .dataframe thead th {\n",
       "        text-align: right;\n",
       "    }\n",
       "</style>\n",
       "<table border=\"1\" class=\"dataframe\">\n",
       "  <thead>\n",
       "    <tr style=\"text-align: right;\">\n",
       "      <th></th>\n",
       "      <th>TITLE</th>\n",
       "      <th>ALBUM</th>\n",
       "      <th>LENGTH IN MIN</th>\n",
       "    </tr>\n",
       "  </thead>\n",
       "  <tbody>\n",
       "    <tr>\n",
       "      <th>0</th>\n",
       "      <td>Stan</td>\n",
       "      <td>The Marshall Mathers LP</td>\n",
       "      <td>6.75</td>\n",
       "    </tr>\n",
       "    <tr>\n",
       "      <th>1</th>\n",
       "      <td>In Da Club</td>\n",
       "      <td>Get Rich or Die Tryin</td>\n",
       "      <td>4.00</td>\n",
       "    </tr>\n",
       "    <tr>\n",
       "      <th>2</th>\n",
       "      <td>Suzanna</td>\n",
       "      <td>Midnight Train</td>\n",
       "      <td>3.98</td>\n",
       "    </tr>\n",
       "    <tr>\n",
       "      <th>3</th>\n",
       "      <td>Many Men</td>\n",
       "      <td>Get Rich or Die Tryin</td>\n",
       "      <td>4.27</td>\n",
       "    </tr>\n",
       "    <tr>\n",
       "      <th>4</th>\n",
       "      <td>Bad Liar</td>\n",
       "      <td>Origins</td>\n",
       "      <td>4.05</td>\n",
       "    </tr>\n",
       "  </tbody>\n",
       "</table>\n",
       "</div>"
      ],
      "text/plain": [
       "        TITLE                    ALBUM  LENGTH IN MIN\n",
       "0        Stan  The Marshall Mathers LP           6.75\n",
       "1  In Da Club    Get Rich or Die Tryin           4.00\n",
       "2     Suzanna           Midnight Train           3.98\n",
       "3    Many Men    Get Rich or Die Tryin           4.27\n",
       "4    Bad Liar                  Origins           4.05"
      ]
     },
     "execution_count": 19,
     "metadata": {},
     "output_type": "execute_result"
    }
   ],
   "source": [
    "import pandas as pd\n",
    "pd.DataFrame(flattened_tracks).head()"
   ]
  },
  {
   "cell_type": "code",
   "execution_count": null,
   "id": "559d4121",
   "metadata": {},
   "outputs": [
    {
     "data": {
      "text/html": [
       "<div>\n",
       "<style scoped>\n",
       "    .dataframe tbody tr th:only-of-type {\n",
       "        vertical-align: middle;\n",
       "    }\n",
       "\n",
       "    .dataframe tbody tr th {\n",
       "        vertical-align: top;\n",
       "    }\n",
       "\n",
       "    .dataframe thead th {\n",
       "        text-align: right;\n",
       "    }\n",
       "</style>\n",
       "<table border=\"1\" class=\"dataframe\">\n",
       "  <thead>\n",
       "    <tr style=\"text-align: right;\">\n",
       "      <th></th>\n",
       "      <th>title</th>\n",
       "      <th>artist</th>\n",
       "      <th>album</th>\n",
       "      <th>duration_sec</th>\n",
       "    </tr>\n",
       "  </thead>\n",
       "  <tbody>\n",
       "    <tr>\n",
       "      <th>0</th>\n",
       "      <td>Stan</td>\n",
       "      <td>Eminem</td>\n",
       "      <td>The Marshall Mathers LP</td>\n",
       "      <td>405</td>\n",
       "    </tr>\n",
       "    <tr>\n",
       "      <th>1</th>\n",
       "      <td>In Da Club</td>\n",
       "      <td>50 Cent</td>\n",
       "      <td>Get Rich or Die Tryin</td>\n",
       "      <td>240</td>\n",
       "    </tr>\n",
       "    <tr>\n",
       "      <th>2</th>\n",
       "      <td>Suzanna</td>\n",
       "      <td>Sauti Sol</td>\n",
       "      <td>Midnight Train</td>\n",
       "      <td>239</td>\n",
       "    </tr>\n",
       "    <tr>\n",
       "      <th>3</th>\n",
       "      <td>Many Men</td>\n",
       "      <td>50 Cent</td>\n",
       "      <td>Get Rich or Die Tryin</td>\n",
       "      <td>256</td>\n",
       "    </tr>\n",
       "    <tr>\n",
       "      <th>4</th>\n",
       "      <td>Bad Liar</td>\n",
       "      <td>Imagine Dragons</td>\n",
       "      <td>Origins</td>\n",
       "      <td>243</td>\n",
       "    </tr>\n",
       "  </tbody>\n",
       "</table>\n",
       "</div>"
      ],
      "text/plain": [
       "        title           artist                    album  duration_sec\n",
       "0        Stan           Eminem  The Marshall Mathers LP           405\n",
       "1  In Da Club          50 Cent    Get Rich or Die Tryin           240\n",
       "2     Suzanna        Sauti Sol           Midnight Train           239\n",
       "3    Many Men          50 Cent    Get Rich or Die Tryin           256\n",
       "4    Bad Liar  Imagine Dragons                  Origins           243"
      ]
     },
     "execution_count": 13,
     "metadata": {},
     "output_type": "execute_result"
    }
   ],
   "source": [
    "#using pandas to make it a csv\n",
    "import pandas  as pd\n",
    "with open('playlist.json','r') as f:\n",
    "    playlist = json.load(f)\n",
    "\n",
    "df = pd.DataFrame(playlist['tracks'])  \n",
    "\n",
    "df.head()\n",
    "\n",
    "#df.to_csv('tracks.csv', index=False)"
   ]
  },
  {
   "cell_type": "code",
   "execution_count": null,
   "id": "221979b5",
   "metadata": {},
   "outputs": [
    {
     "name": "stdout",
     "output_type": "stream",
     "text": [
      "['title', 'artist', 'album', 'duration_sec']\n",
      "['title', 'artist', 'album', 'duration_sec']\n",
      "['title', 'artist', 'album', 'duration_sec']\n",
      "['title', 'artist', 'album', 'duration_sec']\n",
      "['title', 'artist', 'album', 'duration_sec']\n"
     ]
    },
    {
     "data": {
      "text/html": [
       "<div>\n",
       "<style scoped>\n",
       "    .dataframe tbody tr th:only-of-type {\n",
       "        vertical-align: middle;\n",
       "    }\n",
       "\n",
       "    .dataframe tbody tr th {\n",
       "        vertical-align: top;\n",
       "    }\n",
       "\n",
       "    .dataframe thead th {\n",
       "        text-align: right;\n",
       "    }\n",
       "</style>\n",
       "<table border=\"1\" class=\"dataframe\">\n",
       "  <thead>\n",
       "    <tr style=\"text-align: right;\">\n",
       "      <th></th>\n",
       "      <th>title</th>\n",
       "      <th>artist</th>\n",
       "      <th>album</th>\n",
       "    </tr>\n",
       "  </thead>\n",
       "  <tbody>\n",
       "    <tr>\n",
       "      <th>0</th>\n",
       "      <td>Stan</td>\n",
       "      <td>Eminem</td>\n",
       "      <td>6.75</td>\n",
       "    </tr>\n",
       "    <tr>\n",
       "      <th>1</th>\n",
       "      <td>In Da Club</td>\n",
       "      <td>50 Cent</td>\n",
       "      <td>4.00</td>\n",
       "    </tr>\n",
       "    <tr>\n",
       "      <th>2</th>\n",
       "      <td>Suzanna</td>\n",
       "      <td>Sauti Sol</td>\n",
       "      <td>3.98</td>\n",
       "    </tr>\n",
       "    <tr>\n",
       "      <th>3</th>\n",
       "      <td>Many Men</td>\n",
       "      <td>50 Cent</td>\n",
       "      <td>4.27</td>\n",
       "    </tr>\n",
       "    <tr>\n",
       "      <th>4</th>\n",
       "      <td>Bad Liar</td>\n",
       "      <td>Imagine Dragons</td>\n",
       "      <td>4.05</td>\n",
       "    </tr>\n",
       "  </tbody>\n",
       "</table>\n",
       "</div>"
      ],
      "text/plain": [
       "        title           artist  album\n",
       "0        Stan           Eminem   6.75\n",
       "1  In Da Club          50 Cent   4.00\n",
       "2     Suzanna        Sauti Sol   3.98\n",
       "3    Many Men          50 Cent   4.27\n",
       "4    Bad Liar  Imagine Dragons   4.05"
      ]
     },
     "execution_count": 16,
     "metadata": {},
     "output_type": "execute_result"
    }
   ],
   "source": [
    "flattened_tracks = []\n",
    "\n",
    "\n",
    "for track in tracks:\n",
    "    dict_keys = list(track.keys())\n",
    "    print(dict_keys)\n",
    "    flattened_tracks.append({\n",
    "        dict_keys[0]: track['title'],\n",
    "        dict_keys[1]:track['artist'],\n",
    "        dict_keys[2]:round(track['duration_sec'] / 60 ,2)\n",
    "    })\n",
    "\n",
    "df2 = pd.DataFrame(flattened_tracks)\n",
    "\n",
    "df2.head()"
   ]
  },
  {
   "cell_type": "code",
   "execution_count": 20,
   "id": "0fcbd762",
   "metadata": {},
   "outputs": [],
   "source": [
    "import json\n",
    "import csv\n",
    "\n",
    "#loading the json file\n",
    "with open('playlist.json','r') as f:\n",
    "    data = json.load(f)\n",
    "\n",
    "\n",
    "#creating as csv file\n",
    "with open('playlist.csv','w', newline =\"\") as f:  \n",
    "     writer = csv.DictWriter(f, fieldnames=['title','artist','album','duration_sec']) \n",
    "     writer.writeheader()\n",
    "     writer.writerows(data['tracks'])"
   ]
  }
 ],
 "metadata": {
  "kernelspec": {
   "display_name": "python (learn_env)",
   "language": "python",
   "name": "learn-env"
  },
  "language_info": {
   "codemirror_mode": {
    "name": "ipython",
    "version": 3
   },
   "file_extension": ".py",
   "mimetype": "text/x-python",
   "name": "python",
   "nbconvert_exporter": "python",
   "pygments_lexer": "ipython3",
   "version": "3.8.5"
  }
 },
 "nbformat": 4,
 "nbformat_minor": 5
}
